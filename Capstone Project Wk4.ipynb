{
    "cells": [
        {
            "cell_type": "markdown",
            "metadata": {},
            "source": "## 1.\tIntroduction"
        },
        {
            "cell_type": "markdown",
            "metadata": {},
            "source": "An L.A. based juice company named GanicJuice (GJ for short) specializes in smoothies made with organic fruits.  It targets customers who are trendy, upper-middle class, relatively young (35 of age or younger), and health conscious.  Since its start three years ago, it has established a strong customer base in L.A and a few other west coast cities.  The company executives are now planning on launching the first GJ branch on the east coast.  The company executives believe that Brooklyn will be a good location since the borough is close to Manhattan, which is considered to be a lucrative market, but without the risk associated with high rent.  \n\nThe next important step is deciding which Brooklyn neighborhood should be chosen for the first east coast branch.  Previous experience and marketing research indicate that GJ\u2019s most loyal customers like to visit bubble tea joints, eat out at Japanese restaurants, and participate in sports in a club or gym setting.  Thus, a neighborhood with a combination of at least 15 of these retail sites will be preferred. \n"
        },
        {
            "cell_type": "markdown",
            "metadata": {},
            "source": "## 2. Data"
        },
        {
            "cell_type": "markdown",
            "metadata": {},
            "source": "\nMain data required:\n1.\tGeospatial data for all New York City\u2019s (especially Brooklyn\u2019s) neighborhood are needed to identify neighborhoods.\n2.\tGeospatial data for all retail sites that are tagged \u201cJapanese\u201d, \u201cbubble team\u201d, and \u201cgym\u201d in Brooklyn are needed to categorize each of the Brooklyn neighborhoods\n\nSince the GJ executive team express the desire to minimize cost, the data for the project will be sourced from Foursquare.com, as the website offers free data with relatively little limitation.  Using available retail data via the website\u2019s API, retail sites that are tagged \u201cbubble tea\u201d, \u201cJapanese\u201d, and \u201cgym\u201d will be extracted in each of Brooklyn\u2019s neighborhoods.  Afterwards, the neighborhoods will be divided into a few categories based on the distribution and number of the aforementioned sites using k-mean clustering.  The purpose of doing so is to group similar neighbourhoods together to help find the best location for the new branch.  K-mean clustering is selected over other clustering methods because it\u2019s the easiest to understand and implement.  Furthermore, the number of clustering will be selected based on trial-and-error. Once the categories of the neighborhoods are identified, they will be presented to the GJ executive team so that they can decide the final location for the new GJ site.\n"
        }
    ],
    "metadata": {
        "kernelspec": {
            "display_name": "Python 3.6",
            "language": "python",
            "name": "python3"
        },
        "language_info": {
            "codemirror_mode": {
                "name": "ipython",
                "version": 3
            },
            "file_extension": ".py",
            "mimetype": "text/x-python",
            "name": "python",
            "nbconvert_exporter": "python",
            "pygments_lexer": "ipython3",
            "version": "3.6.9"
        },
        "widgets": {
            "state": {},
            "version": "1.1.2"
        }
    },
    "nbformat": 4,
    "nbformat_minor": 4
}
