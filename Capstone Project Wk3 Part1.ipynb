{
    "cells": [
        {
            "cell_type": "markdown",
            "metadata": {},
            "source": "#Download the table from the website"
        },
        {
            "cell_type": "code",
            "execution_count": null,
            "metadata": {},
            "outputs": [],
            "source": "import requests # library to handle requests\nimport pandas as pd # library for data analsysis\nimport numpy as np # library to handle data in a vectorized manner\nimport random # library for random number generation\n\n"
        },
        {
            "cell_type": "markdown",
            "metadata": {},
            "source": "#Download the table from the website"
        },
        {
            "cell_type": "code",
            "execution_count": null,
            "metadata": {},
            "outputs": [],
            "source": "\nurl = 'https://en.wikipedia.org/wiki/List_of_postal_codes_of_Canada:_M'\nhtml = requests.get(url).content\ndf_list = pd.read_html(html)\ndf = df_list[0]\n#print(df)\n"
        },
        {
            "cell_type": "markdown",
            "metadata": {},
            "source": "#Edit the data as required"
        },
        {
            "cell_type": "code",
            "execution_count": 34,
            "metadata": {},
            "outputs": [
                {
                    "name": "stdout",
                    "output_type": "stream",
                    "text": "Dataframe shape is:  (103, 3)\n"
                }
            ],
            "source": "df[\"Borough\"].replace('Not assigned',np.nan, inplace = True)\n#print(df)\n\ndf.dropna(subset=[\"Borough\"],axis=0, inplace = True)\n#print(df)\n\ndf[\"Neighborhood\"].replace('Not assigned',\"Borough\", inplace = True)\n#print(df)\n\ndf['Neighborhood'] = df['Neighborhood'].str.replace('/',',')\n\nprint(\"Dataframe shape is: \",df.shape)\n"
        },
        {
            "cell_type": "code",
            "execution_count": 35,
            "metadata": {},
            "outputs": [
                {
                    "name": "stdout",
                    "output_type": "stream",
                    "text": "    Postal code           Borough  \\\n2           M3A        North York   \n3           M4A        North York   \n4           M5A  Downtown Toronto   \n5           M6A        North York   \n6           M7A  Downtown Toronto   \n8           M9A         Etobicoke   \n9           M1B       Scarborough   \n11          M3B        North York   \n12          M4B         East York   \n13          M5B  Downtown Toronto   \n14          M6B        North York   \n17          M9B         Etobicoke   \n18          M1C       Scarborough   \n20          M3C        North York   \n21          M4C         East York   \n22          M5C  Downtown Toronto   \n23          M6C              York   \n26          M9C         Etobicoke   \n27          M1E       Scarborough   \n30          M4E      East Toronto   \n31          M5E  Downtown Toronto   \n32          M6E              York   \n36          M1G       Scarborough   \n39          M4G         East York   \n40          M5G  Downtown Toronto   \n41          M6G  Downtown Toronto   \n45          M1H       Scarborough   \n46          M2H        North York   \n47          M3H        North York   \n48          M4H         East York   \n49          M5H  Downtown Toronto   \n50          M6H      West Toronto   \n54          M1J       Scarborough   \n55          M2J        North York   \n56          M3J        North York   \n57          M4J         East York   \n58          M5J  Downtown Toronto   \n59          M6J      West Toronto   \n63          M1K       Scarborough   \n64          M2K        North York   \n65          M3K        North York   \n66          M4K      East Toronto   \n67          M5K  Downtown Toronto   \n68          M6K      West Toronto   \n72          M1L       Scarborough   \n73          M2L        North York   \n74          M3L        North York   \n75          M4L      East Toronto   \n76          M5L  Downtown Toronto   \n77          M6L        North York   \n80          M9L        North York   \n81          M1M       Scarborough   \n82          M2M        North York   \n83          M3M        North York   \n84          M4M      East Toronto   \n85          M5M        North York   \n86          M6M              York   \n89          M9M        North York   \n90          M1N       Scarborough   \n91          M2N        North York   \n92          M3N        North York   \n93          M4N   Central Toronto   \n94          M5N   Central Toronto   \n95          M6N              York   \n98          M9N              York   \n99          M1P       Scarborough   \n100         M2P        North York   \n102         M4P   Central Toronto   \n103         M5P   Central Toronto   \n104         M6P      West Toronto   \n107         M9P         Etobicoke   \n108         M1R       Scarborough   \n109         M2R        North York   \n111         M4R   Central Toronto   \n112         M5R   Central Toronto   \n113         M6R      West Toronto   \n114         M7R       Mississauga   \n116         M9R         Etobicoke   \n117         M1S       Scarborough   \n120         M4S   Central Toronto   \n121         M5S  Downtown Toronto   \n122         M6S      West Toronto   \n126         M1T       Scarborough   \n129         M4T   Central Toronto   \n130         M5T  Downtown Toronto   \n135         M1V       Scarborough   \n138         M4V   Central Toronto   \n139         M5V  Downtown Toronto   \n142         M8V         Etobicoke   \n143         M9V         Etobicoke   \n144         M1W       Scarborough   \n147         M4W  Downtown Toronto   \n148         M5W  Downtown Toronto   \n151         M8W         Etobicoke   \n152         M9W         Etobicoke   \n153         M1X       Scarborough   \n156         M4X  Downtown Toronto   \n157         M5X  Downtown Toronto   \n160         M8X         Etobicoke   \n165         M4Y  Downtown Toronto   \n168         M7Y      East Toronto   \n169         M8Y         Etobicoke   \n178         M8Z         Etobicoke   \n\n                                          Neighborhood  \n2                                            Parkwoods  \n3                                     Victoria Village  \n4                           Regent Park , Harbourfront  \n5                    Lawrence Manor , Lawrence Heights  \n6         Queen's Park , Ontario Provincial Government  \n8                                     Islington Avenue  \n9                                      Malvern , Rouge  \n11                                           Don Mills  \n12                    Parkview Hill , Woodbine Gardens  \n13                            Garden District, Ryerson  \n14                                           Glencairn  \n17   West Deane Park , Princess Gardens , Martin Gr...  \n18            Rouge Hill , Port Union , Highland Creek  \n20                                           Don Mills  \n21                                    Woodbine Heights  \n22                                      St. James Town  \n23                                  Humewood-Cedarvale  \n26   Eringate , Bloordale Gardens , Old Burnhamthor...  \n27                 Guildwood , Morningside , West Hill  \n30                                         The Beaches  \n31                                         Berczy Park  \n32                                 Caledonia-Fairbanks  \n36                                              Woburn  \n39                                             Leaside  \n40                                  Central Bay Street  \n41                                            Christie  \n45                                           Cedarbrae  \n46                                   Hillcrest Village  \n47   Bathurst Manor , Wilson Heights , Downsview North  \n48                                    Thorncliffe Park  \n49                          Richmond , Adelaide , King  \n50                       Dufferin , Dovercourt Village  \n54                                 Scarborough Village  \n55                      Fairview , Henry Farm , Oriole  \n56                    Northwood Park , York University  \n57                                        East Toronto  \n58   Harbourfront East , Union Station , Toronto Is...  \n59                           Little Portugal , Trinity  \n63       Kennedy Park , Ionview , East Birchmount Park  \n64                                     Bayview Village  \n65                                           Downsview  \n66                       The Danforth West , Riverdale  \n67           Toronto Dominion Centre , Design Exchange  \n68      Brockton , Parkdale Village , Exhibition Place  \n72                   Golden Mile , Clairlea , Oakridge  \n73                           York Mills , Silver Hills  \n74                                           Downsview  \n75                     India Bazaar , The Beaches West  \n76                     Commerce Court , Victoria Hotel  \n77          North Park , Maple Leaf Park , Upwood Park  \n80                                       Humber Summit  \n81   Cliffside , Cliffcrest , Scarborough Village West  \n82                            Willowdale , Newtonbrook  \n83                                           Downsview  \n84                                     Studio District  \n85                  Bedford Park , Lawrence Manor East  \n86   Del Ray , Mount Dennis , Keelsdale and Silvert...  \n89                                   Humberlea , Emery  \n90                        Birch Cliff , Cliffside West  \n91                                          Willowdale  \n92                                           Downsview  \n93                                       Lawrence Park  \n94                                            Roselawn  \n95                      Runnymede , The Junction North  \n98                                              Weston  \n99   Dorset Park , Wexford Heights , Scarborough To...  \n100                                    York Mills West  \n102                                   Davisville North  \n103                           Forest Hill North & West  \n104                     High Park , The Junction South  \n107                                          Westmount  \n108                                 Wexford , Maryvale  \n109                                         Willowdale  \n111                                 North Toronto West  \n112              The Annex , North Midtown , Yorkville  \n113                            Parkdale , Roncesvalles  \n114              Canada Post Gateway Processing Centre  \n116  Kingsview Village , St. Phillips , Martin Grov...  \n117                                          Agincourt  \n120                                         Davisville  \n121                    University of Toronto , Harbord  \n122                                Runnymede , Swansea  \n126          Clarks Corners , Tam O'Shanter , Sullivan  \n129                       Moore Park , Summerhill East  \n130        Kensington Market , Chinatown , Grange Park  \n135  Milliken , Agincourt North , Steeles East , L'...  \n138  Summerhill West , Rathnelly , South Hill , For...  \n139  CN Tower , King and Spadina , Railway Lands , ...  \n142     New Toronto , Mimico South , Humber Bay Shores  \n143  South Steeles , Silverstone , Humbergate , Jam...  \n144                     Steeles West , L'Amoreaux West  \n147                                           Rosedale  \n148                                     Stn A PO Boxes  \n151                            Alderwood , Long Branch  \n152                                          Northwest  \n153                                        Upper Rouge  \n156                       St. James Town , Cabbagetown  \n157            First Canadian Place , Underground city  \n160    The Kingsway , Montgomery Road , Old Mill North  \n165                               Church and Wellesley  \n168              Business reply mail Processing CentrE  \n169  Old Mill South , King's Mill Park , Sunnylea ,...  \n178  Mimico NW , The Queensway West , South of Bloo...  \n"
                }
            ],
            "source": "print(df)"
        },
        {
            "cell_type": "code",
            "execution_count": null,
            "metadata": {},
            "outputs": [],
            "source": ""
        }
    ],
    "metadata": {
        "kernelspec": {
            "display_name": "Python 3.6",
            "language": "python",
            "name": "python3"
        },
        "language_info": {
            "codemirror_mode": {
                "name": "ipython",
                "version": 3
            },
            "file_extension": ".py",
            "mimetype": "text/x-python",
            "name": "python",
            "nbconvert_exporter": "python",
            "pygments_lexer": "ipython3",
            "version": "3.6.9"
        }
    },
    "nbformat": 4,
    "nbformat_minor": 1
}